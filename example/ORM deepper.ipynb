{
 "cells": [
  {
   "cell_type": "markdown",
   "id": "07e283ad",
   "metadata": {},
   "source": [
    "# 멱등성을 보장하는 함수\n",
    "- update_or_create()"
   ]
  },
  {
   "cell_type": "code",
   "execution_count": 8,
   "id": "a82e0c21",
   "metadata": {},
   "outputs": [
    {
     "name": "stderr",
     "output_type": "stream",
     "text": [
      "(0.015) SELECT \"users\".\"id\", \"users\".\"email\", \"users\".\"name\" FROM \"users\" LIMIT 1; args=(); alias=default\n",
      "(0.115) SELECT \"users\".\"id\", \"users\".\"email\", \"users\".\"name\" FROM \"users\" WHERE \"users\".\"email\" = 'user1@django.com' LIMIT 21 FOR UPDATE; args=('user1@django.com',); alias=default\n",
      "(0.020) UPDATE \"users\" SET \"email\" = 'user1@django.com', \"name\" = '유져1' WHERE \"users\".\"id\" = 1; args=('user1@django.com', '유져1', 1); alias=default\n"
     ]
    },
    {
     "name": "stdout",
     "output_type": "stream",
     "text": [
      "User object (1) False\n"
     ]
    }
   ],
   "source": [
    "user = User.objects.all()[0]\n",
    "user, created = \\\n",
    "    User.objects.update_or_create(email=user.email, defaults={'name' : user.name})\n",
    "print(user, created)"
   ]
  },
  {
   "cell_type": "markdown",
   "id": "58419ac6",
   "metadata": {},
   "source": [
    "## Model overriding\n",
    "- save(update) 시에 count를 1증가시키는 로직을 추가\n",
    "- save시에 update_fields를 지정하면 해당 내용만 업데이트 진행(오버헤드를 줄일 수 있다)\n",
    "\n",
    "```python\n",
    "class Account(models.Model):\n",
    "    ....\n",
    "    def save(self, *arg, **kwargs):\n",
    "        self.people.like_count += 1\n",
    "        self.people.save(\n",
    "            update_fields=['like_count', 'updated_at'])\n",
    "        super().save(*arg, **kwargs)\n",
    "    ...\n",
    "```"
   ]
  },
  {
   "cell_type": "markdown",
   "id": "2d4756e5",
   "metadata": {},
   "source": [
    "## Django model에서 추상클래스 사용\n",
    "- Meta에 `abstract = True`를 하면 해당클래스는 추상클래스가 된다.\n",
    "\n",
    "```python\n",
    "from django.db import models\n",
    "\n",
    "class TimeStampedModel(models.Model):\n",
    "    created_at = models.DateTimeField(auto_now_add=True)\n",
    "    updated_at = models.DateTimeField(auto_now=True)\n",
    "    \n",
    "    class Meta:\n",
    "        abstract = True\n",
    "        \n",
    "class Board(TimeStampedModel):\n",
    "    title = models.CharField(max_length=50)\n",
    "    contents = models.TextField()\n",
    "```"
   ]
  },
  {
   "cell_type": "markdown",
   "id": "42a6b426",
   "metadata": {},
   "source": [
    "## Manager를 활용\n",
    "- 자주쓰는 필터를 manager에 선언해서 사용\n",
    "- 가독성이 좋고 반복작업을 하지 않아도됨"
   ]
  },
  {
   "cell_type": "code",
   "execution_count": 16,
   "id": "37f78771",
   "metadata": {},
   "outputs": [],
   "source": [
    "from django.db import models\n",
    "\n",
    "class ActiveManager(models.Manager):\n",
    "    def activated(self):\n",
    "        return self.filter(is_activate=True)\n",
    "    \n",
    "    def deactivated(self):\n",
    "        return self.filter(is_activate=False)"
   ]
  }
 ],
 "metadata": {
  "kernelspec": {
   "display_name": "Django Shell-Plus",
   "language": "python",
   "name": "django_extensions"
  },
  "language_info": {
   "codemirror_mode": {
    "name": "ipython",
    "version": 3
   },
   "file_extension": ".py",
   "mimetype": "text/x-python",
   "name": "python",
   "nbconvert_exporter": "python",
   "pygments_lexer": "ipython3",
   "version": "3.8.12"
  }
 },
 "nbformat": 4,
 "nbformat_minor": 5
}
