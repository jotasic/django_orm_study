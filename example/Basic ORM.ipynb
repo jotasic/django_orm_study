{
 "cells": [
  {
   "cell_type": "markdown",
   "id": "4cf34c03",
   "metadata": {},
   "source": [
    "# 들어가며\n",
    "이 내용은 [Django ORM Cookbook](https://django-orm-cookbook-ko.readthedocs.io/en/latest/)을 참고하여 작성하였습니다."
   ]
  },
  {
   "cell_type": "markdown",
   "id": "e8b39a6d",
   "metadata": {},
   "source": [
    "## 1. 장고 ORM이 실행하는 실제 SQL 질의문을 확인 하기\n",
    "`queryset.query`의 `str`을 확인하면 된다."
   ]
  },
  {
   "cell_type": "code",
   "execution_count": 4,
   "id": "10d4b15c",
   "metadata": {},
   "outputs": [
    {
     "data": {
      "text/plain": [
       "'SELECT \"users\".\"id\", \"users\".\"email\", \"users\".\"name\" FROM \"users\"'"
      ]
     },
     "execution_count": 4,
     "metadata": {},
     "output_type": "execute_result"
    }
   ],
   "source": [
    "queryset = User.objects.all()\n",
    "str(queryset.query)"
   ]
  },
  {
   "cell_type": "markdown",
   "id": "6d71cf76",
   "metadata": {},
   "source": [
    "## 2. OR, AND, NOT 연산 사용하기"
   ]
  },
  {
   "cell_type": "markdown",
   "id": "2b2c2dee",
   "metadata": {},
   "source": [
    "### 1. OR 연산\n",
    "- queryset_1 | queryset_2\n",
    "- filter(Q(조건1) | Q(조건2))"
   ]
  },
  {
   "cell_type": "code",
   "execution_count": 6,
   "id": "532706c7",
   "metadata": {},
   "outputs": [
    {
     "data": {
      "text/plain": [
       "'SELECT \"users\".\"id\", \"users\".\"email\", \"users\".\"name\" FROM \"users\" WHERE (\"users\".\"id\" = 1 OR \"users\".\"id\" = 2)'"
      ]
     },
     "execution_count": 6,
     "metadata": {},
     "output_type": "execute_result"
    }
   ],
   "source": [
    "queryset = User.objects.filter(id=1) | User.objects.filter(id=2)\n",
    "str(queryset.query)"
   ]
  },
  {
   "cell_type": "code",
   "execution_count": 8,
   "id": "5b1e8048",
   "metadata": {},
   "outputs": [
    {
     "data": {
      "text/plain": [
       "'SELECT \"users\".\"id\", \"users\".\"email\", \"users\".\"name\" FROM \"users\" WHERE (\"users\".\"id\" = 1 OR \"users\".\"id\" = 2)'"
      ]
     },
     "execution_count": 8,
     "metadata": {},
     "output_type": "execute_result"
    }
   ],
   "source": [
    "queryset = User.objects.filter(Q(id=1) | Q(id=2))\n",
    "str(queryset.query)"
   ]
  },
  {
   "cell_type": "markdown",
   "id": "7ec2bc97",
   "metadata": {},
   "source": [
    "### 2. AND 연산\n",
    "- queryset_1 & queryset_2\n",
    "- filter(Q(조건1) & Q(조건2))\n",
    "- filter(조건1, 조건2)"
   ]
  },
  {
   "cell_type": "code",
   "execution_count": 14,
   "id": "76d43591",
   "metadata": {},
   "outputs": [
    {
     "data": {
      "text/plain": [
       "'SELECT \"users\".\"id\", \"users\".\"email\", \"users\".\"name\" FROM \"users\" WHERE (\"users\".\"id\" >= 1 AND \"users\".\"id\" <= 2)'"
      ]
     },
     "execution_count": 14,
     "metadata": {},
     "output_type": "execute_result"
    }
   ],
   "source": [
    "queryset = User.objects.filter(id__gte=1) & User.objects.filter(id__lte=2)\n",
    "str(queryset.query)"
   ]
  },
  {
   "cell_type": "code",
   "execution_count": 15,
   "id": "5cc3fab9",
   "metadata": {},
   "outputs": [
    {
     "data": {
      "text/plain": [
       "'SELECT \"users\".\"id\", \"users\".\"email\", \"users\".\"name\" FROM \"users\" WHERE (\"users\".\"id\" >= 1 AND \"users\".\"id\" <= 2)'"
      ]
     },
     "execution_count": 15,
     "metadata": {},
     "output_type": "execute_result"
    }
   ],
   "source": [
    "queryset = User.objects.filter(Q(id__gte=1) & Q(id__lte=2))\n",
    "str(queryset.query)"
   ]
  },
  {
   "cell_type": "code",
   "execution_count": 16,
   "id": "909dffc3",
   "metadata": {},
   "outputs": [
    {
     "data": {
      "text/plain": [
       "'SELECT \"users\".\"id\", \"users\".\"email\", \"users\".\"name\" FROM \"users\" WHERE (\"users\".\"id\" >= 1 AND \"users\".\"id\" <= 2)'"
      ]
     },
     "execution_count": 16,
     "metadata": {},
     "output_type": "execute_result"
    }
   ],
   "source": [
    "queryset = User.objects.filter(id__gte=1, id__lte=2)\n",
    "str(queryset.query)"
   ]
  },
  {
   "cell_type": "markdown",
   "id": "5bd8a02b",
   "metadata": {},
   "source": [
    "### 3.NOT 연산\n",
    "- exclude(조건)\n",
    "- filter(~Q(조건))"
   ]
  },
  {
   "cell_type": "code",
   "execution_count": 17,
   "id": "f5c6170b",
   "metadata": {},
   "outputs": [
    {
     "data": {
      "text/plain": [
       "'SELECT \"users\".\"id\", \"users\".\"email\", \"users\".\"name\" FROM \"users\" WHERE NOT (\"users\".\"id\" = 1)'"
      ]
     },
     "execution_count": 17,
     "metadata": {},
     "output_type": "execute_result"
    }
   ],
   "source": [
    "queryset = User.objects.exclude(id=1)\n",
    "str(queryset.query)"
   ]
  },
  {
   "cell_type": "code",
   "execution_count": 18,
   "id": "2e22d1e5",
   "metadata": {},
   "outputs": [
    {
     "data": {
      "text/plain": [
       "'SELECT \"users\".\"id\", \"users\".\"email\", \"users\".\"name\" FROM \"users\" WHERE NOT (\"users\".\"id\" = 1)'"
      ]
     },
     "execution_count": 18,
     "metadata": {},
     "output_type": "execute_result"
    }
   ],
   "source": [
    "queryset = User.objects.filter(~Q(id=1))\n",
    "str(queryset.query)"
   ]
  },
  {
   "cell_type": "markdown",
   "id": "23342a6e",
   "metadata": {},
   "source": [
    "## 3. 필요한 열만 골라 조회하기\n",
    "- 쿼리셋의 values 메서드와 values_list 메서드 - dictionary나 tuple형태로 가져옴\n",
    "- only 메서드 - 객체로 가져오는데, id도 같이 가져옴"
   ]
  },
  {
   "cell_type": "code",
   "execution_count": 32,
   "id": "ff619d49",
   "metadata": {},
   "outputs": [
    {
     "name": "stdout",
     "output_type": "stream",
     "text": [
      "SELECT \"users\".\"name\" FROM \"users\" WHERE \"users\".\"id\" = 1 <QuerySet [{'name': '유져0'}]> 유져0\n"
     ]
    }
   ],
   "source": [
    "queryset = User.objects.filter(id=1).values('name')\n",
    "print(queryset.query, queryset)"
   ]
  },
  {
   "cell_type": "code",
   "execution_count": 26,
   "id": "dc26c77e",
   "metadata": {},
   "outputs": [
    {
     "name": "stdout",
     "output_type": "stream",
     "text": [
      "SELECT \"users\".\"name\" FROM \"users\" WHERE \"users\".\"id\" = 1 <QuerySet [('유져0',)]>\n"
     ]
    }
   ],
   "source": [
    "queryset = User.objects.filter(id=1).values_list('name')\n",
    "print(queryset.query, queryset)"
   ]
  },
  {
   "cell_type": "code",
   "execution_count": 43,
   "id": "324fc97c",
   "metadata": {},
   "outputs": [
    {
     "name": "stdout",
     "output_type": "stream",
     "text": [
      "SELECT \"users\".\"id\", \"users\".\"name\" FROM \"users\" WHERE \"users\".\"id\" = 1 User object (1)\n"
     ]
    }
   ],
   "source": [
    "queryset = User.objects.filter(id=1).only('name')\n",
    "print(queryset.query, queryset[0])"
   ]
  },
  {
   "cell_type": "markdown",
   "id": "e022c434",
   "metadata": {},
   "source": [
    "##### only 사용시 주의점\n",
    "지정하지 않은 필드를 접근 할 경우 내부적으로 해당 필드 추가해서 SELECT 문이 한번 더 실행\n",
    "```python\n",
    "qs = User.objects.filter(id=1).only(\"name\")\n",
    "qs[0].email\n",
    "# SELECT \"users\".\"id\", \"users\".\"name\" FROM \"users\" WHERE \"users\".\"id\" = 1 LIMIT 1;\n",
    "# SELECT \"users\".\"id\", \"users\".\"email\" FROM \"users\" WHERE \"users\".\"id\" = 1 LIMIT 21;\n",
    "```"
   ]
  },
  {
   "cell_type": "markdown",
   "id": "1a9d65b8",
   "metadata": {},
   "source": [
    "## 4. 서브쿼리 사용하기\n",
    "- [서브쿼리 - 제타위키](https://zetawiki.com/wiki/서브쿼리)\n",
    "- [subquery-expressions](https://docs.djangoproject.com/en/4.0/ref/models/expressions/#subquery-expressions)\n",
    "- `Subquery` 객체를 사용해서 구현한다"
   ]
  },
  {
   "cell_type": "code",
   "execution_count": 46,
   "id": "767e5838",
   "metadata": {},
   "outputs": [
    {
     "data": {
      "text/plain": [
       "'SELECT \"users\".\"id\", \"users\".\"email\", \"users\".\"name\" FROM \"users\" WHERE \"users\".\"id\" IN (SELECT U0.\"id\" FROM \"users\" U0 WHERE U0.\"id\" > 10)'"
      ]
     },
     "execution_count": 46,
     "metadata": {},
     "output_type": "execute_result"
    }
   ],
   "source": [
    "queryset = User.objects.filter(id__in=Subquery(User.objects.filter(id__gt=10).values('id')))\n",
    "str(queryset.query)"
   ]
  },
  {
   "cell_type": "markdown",
   "id": "a04826ed",
   "metadata": {},
   "source": [
    "Outer queryset을 참고하고 싶으면 [OuterRef](https://docs.djangoproject.com/en/4.0/ref/models/expressions/#django.db.models.OuterRef)를 사용한다.\n",
    "\n",
    "아래 예시에서 OuterRef(\"pk\")가 의미하는 것은 Seller의 pk이다."
   ]
  },
  {
   "cell_type": "code",
   "execution_count": 87,
   "id": "cafb45d9",
   "metadata": {},
   "outputs": [
    {
     "name": "stdout",
     "output_type": "stream",
     "text": [
      "SELECT \"sellers\".\"id\", \"sellers\".\"email\", \"sellers\".\"name\", \"sellers\".\"phone_number\", (SELECT U0.\"name\" FROM \"products\" U0 WHERE U0.\"related_seller_id\" = \"sellers\".\"id\" ORDER BY U0.\"price\" DESC LIMIT 1) AS \"most_expensive_product_name\" FROM \"sellers\"\n",
      "<QuerySet [{'id': 72, 'email': 'seller72@django.com', 'name': '판매자1', 'phone_number': '010-1234-0072', 'most_expensive_product_name': '상품37'}]>\n"
     ]
    }
   ],
   "source": [
    "product = Product.objects.filter(related_seller=OuterRef(\"pk\")).order_by('-price')\n",
    "seller = Seller.objects.all().annotate(most_expensive_product_name=Subquery(product.values('name')[:1]))\n",
    "\n",
    "print(seller.query)\n",
    "print(seller.values()[:1])"
   ]
  },
  {
   "cell_type": "markdown",
   "id": "264f1cc4",
   "metadata": {},
   "source": [
    "## 5.필드의 값을 서로 비교하는 방법\n",
    "- [F객체](https://docs.djangoproject.com/en/4.0/ref/models/expressions/#f-expressions)를 사용한다.\n",
    "- 모델 필드 값을 참조하고 실제로 데이터베이스에서 파이썬 메모리로 가져올 필요 없이 이 필드 값을 사용하여 데이터베이스 작업을 수행할 수 있게 한다.\n",
    "- Django는 F() 개체를 사용하여 데이터베이스 수준에서 필요한 작업을 설명하는 SQL 식을 생성한다."
   ]
  },
  {
   "cell_type": "code",
   "execution_count": 90,
   "id": "12afe7bd",
   "metadata": {},
   "outputs": [
    {
     "data": {
      "text/plain": [
       "'SELECT \"users\".\"id\" FROM \"users\" WHERE \"users\".\"email\" = \"users\".\"name\"'"
      ]
     },
     "execution_count": 90,
     "metadata": {},
     "output_type": "execute_result"
    }
   ],
   "source": [
    "queryset = User.objects.filter(email=F('name')).only('id')\n",
    "str(queryset.query)"
   ]
  },
  {
   "cell_type": "markdown",
   "id": "20e3cac1",
   "metadata": {},
   "source": [
    "### F객체의 장점\n",
    "- 불필요한 쿼리를 줄일 수 있다.\n",
    "\n",
    "만약 상품의 가격을 1000증가 시키는 로직이 필요하다고 가정하자\n",
    "\n",
    "- F 객체를 사용하지 않으면 select문, update문 각 1번씩 총 2번의 쿼리를 수행해야된다.\n",
    "- 반면에 F객체를 사용하면 update문 한번의 쿼리를 수행하면 된다.\n",
    "\n",
    "#### F객체 미사용 \n",
    "- F 객체를 미 사용시에는 Update문에서 price를 1300으로 갱신하는 즉 `값으로` 갱신하는 것을 확인 할 수 있다.\n",
    "- 즉 select문으로 값을 알아낸다 -> 알아낸 값에 1000을 더해서 값을 업데이트 한다\n",
    "```python\n",
    "In [28]: qs1 = Product.objects.filter(id__lte=5)\n",
    "In [29]: for product in qs1:\n",
    "    ...:     product.price += 1000\n",
    "    ...:     product.save()\n",
    "```\n",
    "```sql\n",
    "SELECT \"products\".\"id\", \"products\".\"name\", \"products\".\"price\", \"products\".\"related_seller_id\" FROM \"products\" LIMIT 5;\n",
    "UPDATE \"products\" SET \"name\" = '상품1', \"price\" = 1300, \"related_seller_id\" = 1 WHERE \"products\".\"id\" = 1;\n",
    "UPDATE \"products\" SET \"name\" = '상품2', \"price\" = 1300, \"related_seller_id\" = 2 WHERE \"products\".\"id\" = 2;\n",
    "UPDATE \"products\" SET \"name\" = '상품3', \"price\" = 1300, \"related_seller_id\" = 3 WHERE \"products\".\"id\" = 3;\n",
    "UPDATE \"products\" SET \"name\" = '상품4', \"price\" = 1300, \"related_seller_id\" = 4 WHERE \"products\".\"id\" = 4;\n",
    "UPDATE \"products\" SET \"name\" = '상품5', \"price\" = 1300, \"related_seller_id\" = 5 WHERE \"products\".\"id\" = 5;\n",
    "```\n",
    "\n",
    "#### F객체 사용\n",
    "- 반면 F객체를 사용하면 현재 필드 값을 참조하여 그 값에 1000을 더하는 로직인 것을 확인 할 수 있다.\n",
    "```python\n",
    "qs1 = Product.objects.filter(id__lte=5).update(price=F(\"price\") + 1000)\n",
    "```\n",
    "```sql\n",
    "UPDATE \"products\" SET \"price\" = (\"products\".\"price\" + 1000) WHERE \"products\".\"id\" <= 5;\n",
    "```\n"
   ]
  },
  {
   "cell_type": "markdown",
   "id": "2ab3ac79",
   "metadata": {},
   "source": [
    "## 6. 두 모델을 Join하는 방법"
   ]
  },
  {
   "cell_type": "markdown",
   "id": "ab0f72e5",
   "metadata": {},
   "source": [
    "### 1.selected_related 사용"
   ]
  },
  {
   "cell_type": "code",
   "execution_count": 107,
   "id": "79396f49",
   "metadata": {},
   "outputs": [
    {
     "data": {
      "text/plain": [
       "'SELECT \"products\".\"id\", \"products\".\"name\", \"products\".\"price\", \"products\".\"related_seller_id\", \"sellers\".\"id\", \"sellers\".\"email\", \"sellers\".\"name\", \"sellers\".\"phone_number\" FROM \"products\" INNER JOIN \"sellers\" ON (\"products\".\"related_seller_id\" = \"sellers\".\"id\")'"
      ]
     },
     "execution_count": 107,
     "metadata": {},
     "output_type": "execute_result"
    }
   ],
   "source": [
    "sq = Product.objects.select_related(\"related_seller\")\n",
    "str(sq.query)\n"
   ]
  },
  {
   "cell_type": "markdown",
   "id": "f9a15b06",
   "metadata": {},
   "source": [
    "2. 더블스코어로(`__`) 연결된 테이블의 필드 참조"
   ]
  },
  {
   "cell_type": "code",
   "execution_count": 104,
   "id": "4072d3d2",
   "metadata": {},
   "outputs": [
    {
     "data": {
      "text/plain": [
       "'SELECT \"products\".\"id\", \"products\".\"name\", \"products\".\"price\", \"products\".\"related_seller_id\" FROM \"products\" INNER JOIN \"sellers\" ON (\"products\".\"related_seller_id\" = \"sellers\".\"id\") WHERE (\"products\".\"name\" = 상품1 AND \"sellers\".\"name\" = 판매자1)'"
      ]
     },
     "execution_count": 104,
     "metadata": {},
     "output_type": "execute_result"
    }
   ],
   "source": [
    "sq = Product.objects.filter(name='상품1, related_seller__name='판매자1')\n",
    "str(sq.query)"
   ]
  },
  {
   "cell_type": "markdown",
   "id": "f0f3d30f",
   "metadata": {},
   "source": [
    "## 7. N번째의 데이터를 가져오는 방법(Limit, Offset)\n",
    "- 쿼리셋에 인덱스 연산`[]`을 지정한다.\n",
    "- 이때 전체 데이터를 가져온 후, Django에서 인덱싱 하는 것이 아니라 SQL 단계에서 Limit, Offset을 적용해서 실제로 필요한 데이터만 가져온다\n",
    "- python에 인덱싱 처럼 사용하면 되고 Django에서 알아서 해당 번째 데이터를 가져올 수 있도록 Limit, Offset을 조정한다.\n",
    "- 다만 python의 인덱싱과 다른점은\n",
    "  - 데이터가 없는 범위를 지정해도 에러가 나지 않는다 - 단 한개로 지정 `ex: User.objects.all()[[50]` 했을때 51번째 데이터가 없다면 에러가 난다.\n",
    "  - 리버스 인덱스(-1, -2)를 사용할 수 없다. - 아마도 Django입장에서는 DB를 접근하지 않은 상태에서 해당 쿼리 실행결과의 총 갯수를 알 수 없으므로 Limit, Offset으로 치환 할 수 없어서로 추측된다."
   ]
  },
  {
   "cell_type": "code",
   "execution_count": 126,
   "id": "d01688df",
   "metadata": {},
   "outputs": [
    {
     "ename": "IndexError",
     "evalue": "list index out of range",
     "output_type": "error",
     "traceback": [
      "\u001b[0;31m---------------------------------------------------------------------------\u001b[0m",
      "\u001b[0;31mIndexError\u001b[0m                                Traceback (most recent call last)",
      "\u001b[0;32m<ipython-input-126-66fb96dfa6be>\u001b[0m in \u001b[0;36m<module>\u001b[0;34m\u001b[0m\n\u001b[1;32m      1\u001b[0m \u001b[0;31m# 범위를 한개로 지정했을 때는 에러가 날 수 있다. - SELECT문은 정상 실행하였고, Django에서 데이터를 뽑아줄 때 에러가 남\u001b[0m\u001b[0;34m\u001b[0m\u001b[0;34m\u001b[0m\u001b[0;34m\u001b[0m\u001b[0m\n\u001b[1;32m      2\u001b[0m \u001b[0;31m# 범위가 한개면 반환값이 queryset이 아닌 model 객체이다.\u001b[0m\u001b[0;34m\u001b[0m\u001b[0;34m\u001b[0m\u001b[0;34m\u001b[0m\u001b[0m\n\u001b[0;32m----> 3\u001b[0;31m \u001b[0mqs\u001b[0m \u001b[0;34m=\u001b[0m \u001b[0mUser\u001b[0m\u001b[0;34m.\u001b[0m\u001b[0mobjects\u001b[0m\u001b[0;34m.\u001b[0m\u001b[0mall\u001b[0m\u001b[0;34m(\u001b[0m\u001b[0;34m)\u001b[0m\u001b[0;34m[\u001b[0m\u001b[0;36m1000\u001b[0m\u001b[0;34m]\u001b[0m\u001b[0;34m\u001b[0m\u001b[0;34m\u001b[0m\u001b[0m\n\u001b[0m",
      "\u001b[0;32m~/miniconda3/lib/python3.8/site-packages/django/db/models/query.py\u001b[0m in \u001b[0;36m__getitem__\u001b[0;34m(self, k)\u001b[0m\n\u001b[1;32m    316\u001b[0m         \u001b[0mqs\u001b[0m\u001b[0;34m.\u001b[0m\u001b[0mquery\u001b[0m\u001b[0;34m.\u001b[0m\u001b[0mset_limits\u001b[0m\u001b[0;34m(\u001b[0m\u001b[0mk\u001b[0m\u001b[0;34m,\u001b[0m \u001b[0mk\u001b[0m \u001b[0;34m+\u001b[0m \u001b[0;36m1\u001b[0m\u001b[0;34m)\u001b[0m\u001b[0;34m\u001b[0m\u001b[0;34m\u001b[0m\u001b[0m\n\u001b[1;32m    317\u001b[0m         \u001b[0mqs\u001b[0m\u001b[0;34m.\u001b[0m\u001b[0m_fetch_all\u001b[0m\u001b[0;34m(\u001b[0m\u001b[0;34m)\u001b[0m\u001b[0;34m\u001b[0m\u001b[0;34m\u001b[0m\u001b[0m\n\u001b[0;32m--> 318\u001b[0;31m         \u001b[0;32mreturn\u001b[0m \u001b[0mqs\u001b[0m\u001b[0;34m.\u001b[0m\u001b[0m_result_cache\u001b[0m\u001b[0;34m[\u001b[0m\u001b[0;36m0\u001b[0m\u001b[0;34m]\u001b[0m\u001b[0;34m\u001b[0m\u001b[0;34m\u001b[0m\u001b[0m\n\u001b[0m\u001b[1;32m    319\u001b[0m \u001b[0;34m\u001b[0m\u001b[0m\n\u001b[1;32m    320\u001b[0m     \u001b[0;32mdef\u001b[0m \u001b[0m__class_getitem__\u001b[0m\u001b[0;34m(\u001b[0m\u001b[0mcls\u001b[0m\u001b[0;34m,\u001b[0m \u001b[0;34m*\u001b[0m\u001b[0margs\u001b[0m\u001b[0;34m,\u001b[0m \u001b[0;34m**\u001b[0m\u001b[0mkwargs\u001b[0m\u001b[0;34m)\u001b[0m\u001b[0;34m:\u001b[0m\u001b[0;34m\u001b[0m\u001b[0;34m\u001b[0m\u001b[0m\n",
      "\u001b[0;31mIndexError\u001b[0m: list index out of range"
     ]
    }
   ],
   "source": [
    "# 범위를 한개로 지정했을 때는 에러가 날 수 있다. - SELECT문은 정상 실행하였고, Django에서 데이터를 뽑아줄 때 에러가 남\n",
    "# 범위가 한개면 반환값이 queryset이 아닌 model 객체이다.\n",
    "qs = User.objects.all()[1000]"
   ]
  },
  {
   "cell_type": "code",
   "execution_count": 127,
   "id": "7d3e1e14",
   "metadata": {},
   "outputs": [
    {
     "name": "stdout",
     "output_type": "stream",
     "text": [
      "SELECT \"users\".\"id\", \"users\".\"email\", \"users\".\"name\" FROM \"users\" LIMIT 1000 OFFSET 1000 <QuerySet []>\n"
     ]
    }
   ],
   "source": [
    "# 범위를 한개로 지정 안하면 단순히 결과가 없는 상태다.\n",
    "qs = User.objects.all()[1000:2000]\n",
    "print(qs.query, qs)"
   ]
  },
  {
   "cell_type": "markdown",
   "id": "22cc8652",
   "metadata": {},
   "source": [
    "## 8. 집계함수 사용하기\n",
    "- [aggregate](https://docs.djangoproject.com/en/4.0/topics/db/aggregation/)를 사용한다."
   ]
  },
  {
   "cell_type": "code",
   "execution_count": 139,
   "id": "d5c360c6",
   "metadata": {},
   "outputs": [
    {
     "data": {
      "text/plain": [
       "{'total': 26900}"
      ]
     },
     "execution_count": 139,
     "metadata": {},
     "output_type": "execute_result"
    }
   ],
   "source": [
    "# 총 합\n",
    "Product.objects.all().aggregate(total=Sum('price'))"
   ]
  },
  {
   "cell_type": "markdown",
   "id": "ab42c993",
   "metadata": {},
   "source": [
    "```sql\n",
    "SELECT AVG(\"products\".\"price\") AS \"total\" FROM \"products\n",
    "```"
   ]
  },
  {
   "cell_type": "code",
   "execution_count": 140,
   "id": "07722f9b",
   "metadata": {},
   "outputs": [
    {
     "data": {
      "text/plain": [
       "{'most_expensive': 2300}"
      ]
     },
     "execution_count": 140,
     "metadata": {},
     "output_type": "execute_result"
    }
   ],
   "source": [
    "# 최대 값\n",
    "Product.objects.all().aggregate(most_expensive=Max('price'))"
   ]
  },
  {
   "cell_type": "markdown",
   "id": "fb3ead3b",
   "metadata": {},
   "source": [
    "```sql\n",
    "SELECT MAX(\"products\".\"price\") AS \"most_expensive\" FROM \"products\";\n",
    "```"
   ]
  },
  {
   "cell_type": "markdown",
   "id": "4f892755",
   "metadata": {},
   "source": [
    "## 9. 정렬하기\n",
    "- `order_by`메서드를 사용해서 정렬할 수 있다.\n",
    "- 정렬하고 싶은 필드명을 입력하는데, 필드명 앞에 `-`를 붙이면 내림차순이 된다."
   ]
  },
  {
   "cell_type": "code",
   "execution_count": 144,
   "id": "b76a078f",
   "metadata": {},
   "outputs": [
    {
     "data": {
      "text/plain": [
       "<QuerySet [<User: User object (371)>, <User: User object (372)>, <User: User object (373)>, <User: User object (374)>, <User: User object (375)>, <User: User object (376)>, <User: User object (377)>, <User: User object (378)>, <User: User object (379)>, <User: User object (380)>]>"
      ]
     },
     "execution_count": 144,
     "metadata": {},
     "output_type": "execute_result"
    }
   ],
   "source": [
    "User.objects.all().order_by('id')[:10] # id기준으로 오름차순 정렬"
   ]
  },
  {
   "cell_type": "code",
   "execution_count": 143,
   "id": "3d42f9d7",
   "metadata": {},
   "outputs": [
    {
     "data": {
      "text/plain": [
       "<QuerySet [<User: User object (400)>, <User: User object (399)>, <User: User object (398)>, <User: User object (397)>, <User: User object (396)>, <User: User object (395)>, <User: User object (394)>, <User: User object (393)>, <User: User object (392)>, <User: User object (391)>]>"
      ]
     },
     "execution_count": 143,
     "metadata": {},
     "output_type": "execute_result"
    }
   ],
   "source": [
    "User.objects.all().order_by('-id')[:10] # id기준으로 내림차순 정렬"
   ]
  },
  {
   "cell_type": "code",
   "execution_count": null,
   "id": "ed2f0a5b",
   "metadata": {},
   "outputs": [],
   "source": []
  }
 ],
 "metadata": {
  "kernelspec": {
   "display_name": "Django Shell-Plus",
   "language": "python",
   "name": "django_extensions"
  },
  "language_info": {
   "codemirror_mode": {
    "name": "ipython",
    "version": 3
   },
   "file_extension": ".py",
   "mimetype": "text/x-python",
   "name": "python",
   "nbconvert_exporter": "python",
   "pygments_lexer": "ipython3",
   "version": "3.8.5"
  }
 },
 "nbformat": 4,
 "nbformat_minor": 5
}
