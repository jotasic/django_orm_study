{
 "cells": [
  {
   "cell_type": "markdown",
   "id": "862596aa",
   "metadata": {},
   "source": [
    "# ORM의 특징\n",
    "\n",
    "## 1. Lazy Loading 지연로딩 : 정말 필요한 시점에 sql을 호출한다.\n",
    "### 1-1. 실제 데이터가 필요한 시점에 SQL을 호출한다.\n",
    "  - `User.objects.all()` 시점에서는 실제로 사용하지 않지 때문에, SQL을 호출하지 않지만 list로 변환할때는 실제 데이터가 필요하므로 SQL을 호출한다."
   ]
  },
  {
   "cell_type": "code",
   "execution_count": 12,
   "id": "2914430c",
   "metadata": {},
   "outputs": [],
   "source": [
    "users = User.objects.all()"
   ]
  },
  {
   "cell_type": "code",
   "execution_count": 13,
   "id": "dc9a7899",
   "metadata": {},
   "outputs": [
    {
     "name": "stderr",
     "output_type": "stream",
     "text": [
      "(0.014) SELECT \"users\".\"id\", \"users\".\"email\", \"users\".\"name\" FROM \"users\"; args=(); alias=default\n"
     ]
    }
   ],
   "source": [
    "users = User.objects.all()\n",
    "user_list = list(users)"
   ]
  },
  {
   "cell_type": "markdown",
   "id": "27c512e3",
   "metadata": {},
   "source": [
    "### 1-2. 직접 사용하지 않는 쿼리셋은 호출하지 않는다.\n",
    "  - 쿼리셋을 3개를 만들었지만 사용한(seller) 쿼리셋만 SQL을 호출함"
   ]
  },
  {
   "cell_type": "code",
   "execution_count": 16,
   "id": "8d811fc6",
   "metadata": {},
   "outputs": [
    {
     "name": "stderr",
     "output_type": "stream",
     "text": [
      "(0.013) SELECT \"sellers\".\"id\", \"sellers\".\"email\", \"sellers\".\"name\", \"sellers\".\"phone_number\" FROM \"sellers\"; args=(); alias=default\n"
     ]
    }
   ],
   "source": [
    "users = User.objects.all()\n",
    "products = Product.objects.all()\n",
    "sellers = Seller.objects.all()\n",
    "\n",
    "seller_list = list(sellers)"
   ]
  },
  {
   "cell_type": "markdown",
   "id": "007a0cd2",
   "metadata": {},
   "source": [
    "### 1.3 불필요한 SQL 호출이 생길 수 있다.\n",
    "  - user 1명만 조회 후, 모든 user를 조회 해야된다고 하면, 1명만 조회하는 SQL, 모두 조회하는 SQL 총 2번 SQL을 호출한다.\n",
    "  - 이는 순서만 바꿔도 모두 조회하는 SQL을 한번만 호출하면 된다.\n",
    "  - 모든 user를 가져오라는 sql이 호출되서 모든 user 데이터가 캐싱되어 있기 때문이다.\n",
    "  - ORM입장에서는 현 시점에서 가장 효율적인 SQL을 호출하려고 하기 때문이다. ORM은 전체 흐름을 알 수 없음!"
   ]
  },
  {
   "cell_type": "code",
   "execution_count": 23,
   "id": "ae251c31",
   "metadata": {},
   "outputs": [
    {
     "name": "stderr",
     "output_type": "stream",
     "text": [
      "(0.013) SELECT \"users\".\"id\", \"users\".\"email\", \"users\".\"name\" FROM \"users\" LIMIT 1; args=(); alias=default\n",
      "(0.003) SELECT \"users\".\"id\", \"users\".\"email\", \"users\".\"name\" FROM \"users\"; args=(); alias=default\n"
     ]
    }
   ],
   "source": [
    "users = User.objects.all()\n",
    "first_user = users[0]\n",
    "all_user = list(users)"
   ]
  },
  {
   "cell_type": "code",
   "execution_count": 25,
   "id": "41aa9290",
   "metadata": {},
   "outputs": [
    {
     "name": "stderr",
     "output_type": "stream",
     "text": [
      "(0.051) SELECT \"users\".\"id\", \"users\".\"email\", \"users\".\"name\" FROM \"users\"; args=(); alias=default\n"
     ]
    }
   ],
   "source": [
    "users = User.objects.all()\n",
    "all_user = list(users) # 모든 user 캐싱\n",
    "first_user = users[0]"
   ]
  },
  {
   "cell_type": "markdown",
   "id": "a2f01878",
   "metadata": {},
   "source": [
    "### 1.4 N+1 problem가 발생할 수 있다.\n",
    "  - 모든 product의 정보를 가져오라고 하고, for문을 통해서 연관된 판매자 정보까지 출력하려하면 \n",
    "  - for문을 도는 시점에 해당상품에 연관된 판매자 한사람만의 정보를 필요하기 때문에 상품수만큼 판매자를 알아내는 SQL문이 호출된다.\n",
    "  - 그래서 총 상품전체조회하는 SQL + 판매자정보를 상품개수만큼 호출하는 SQL 이 발생하기 때문에, N+1문제라고 부른다.\n",
    "  - 이를 해결하기 위해서는 Enger Loading(즉시호출) 사용한다."
   ]
  },
  {
   "cell_type": "code",
   "execution_count": 37,
   "id": "c214d33c",
   "metadata": {},
   "outputs": [
    {
     "name": "stderr",
     "output_type": "stream",
     "text": [
      "(0.015) SELECT \"products\".\"id\", \"products\".\"name\", \"products\".\"price\", \"products\".\"related_seller_id\" FROM \"products\"; args=(); alias=default\n",
      "(0.005) SELECT \"sellers\".\"id\", \"sellers\".\"email\", \"sellers\".\"name\", \"sellers\".\"phone_number\" FROM \"sellers\" WHERE \"sellers\".\"id\" = 1 LIMIT 21; args=(1,); alias=default\n",
      "(0.009) SELECT \"sellers\".\"id\", \"sellers\".\"email\", \"sellers\".\"name\", \"sellers\".\"phone_number\" FROM \"sellers\" WHERE \"sellers\".\"id\" = 2 LIMIT 21; args=(2,); alias=default\n",
      "(0.022) SELECT \"sellers\".\"id\", \"sellers\".\"email\", \"sellers\".\"name\", \"sellers\".\"phone_number\" FROM \"sellers\" WHERE \"sellers\".\"id\" = 3 LIMIT 21; args=(3,); alias=default\n",
      "(0.003) SELECT \"sellers\".\"id\", \"sellers\".\"email\", \"sellers\".\"name\", \"sellers\".\"phone_number\" FROM \"sellers\" WHERE \"sellers\".\"id\" = 4 LIMIT 21; args=(4,); alias=default\n",
      "(0.003) SELECT \"sellers\".\"id\", \"sellers\".\"email\", \"sellers\".\"name\", \"sellers\".\"phone_number\" FROM \"sellers\" WHERE \"sellers\".\"id\" = 5 LIMIT 21; args=(5,); alias=default\n",
      "(0.003) SELECT \"sellers\".\"id\", \"sellers\".\"email\", \"sellers\".\"name\", \"sellers\".\"phone_number\" FROM \"sellers\" WHERE \"sellers\".\"id\" = 6 LIMIT 21; args=(6,); alias=default\n",
      "(0.003) SELECT \"sellers\".\"id\", \"sellers\".\"email\", \"sellers\".\"name\", \"sellers\".\"phone_number\" FROM \"sellers\" WHERE \"sellers\".\"id\" = 7 LIMIT 21; args=(7,); alias=default\n",
      "(0.003) SELECT \"sellers\".\"id\", \"sellers\".\"email\", \"sellers\".\"name\", \"sellers\".\"phone_number\" FROM \"sellers\" WHERE \"sellers\".\"id\" = 8 LIMIT 21; args=(8,); alias=default\n",
      "(0.003) SELECT \"sellers\".\"id\", \"sellers\".\"email\", \"sellers\".\"name\", \"sellers\".\"phone_number\" FROM \"sellers\" WHERE \"sellers\".\"id\" = 9 LIMIT 21; args=(9,); alias=default\n",
      "(0.002) SELECT \"sellers\".\"id\", \"sellers\".\"email\", \"sellers\".\"name\", \"sellers\".\"phone_number\" FROM \"sellers\" WHERE \"sellers\".\"id\" = 10 LIMIT 21; args=(10,); alias=default\n"
     ]
    }
   ],
   "source": [
    "products = Product.objects.all()\n",
    "product_sellers = [{'name' : product.name, 'seller' : product.related_seller.name} for product in products]"
   ]
  },
  {
   "cell_type": "markdown",
   "id": "f17fb8c7",
   "metadata": {},
   "source": [
    "- select_related와 prefetch_related를 사용해서 N+1 problem 해결할 수 있다."
   ]
  },
  {
   "cell_type": "code",
   "execution_count": 152,
   "id": "d959abe5",
   "metadata": {},
   "outputs": [
    {
     "name": "stderr",
     "output_type": "stream",
     "text": [
      "(0.004) SELECT \"products\".\"id\", \"products\".\"name\", \"products\".\"price\", \"products\".\"related_seller_id\", \"sellers\".\"id\", \"sellers\".\"email\", \"sellers\".\"name\", \"sellers\".\"phone_number\" FROM \"products\" INNER JOIN \"sellers\" ON (\"products\".\"related_seller_id\" = \"sellers\".\"id\"); args=(); alias=default\n"
     ]
    }
   ],
   "source": [
    "products = Product.objects.select_related('related_seller')\n",
    "product_sellers = [{'name' : product.name, 'seller' : product.related_seller.name} for product in products]"
   ]
  },
  {
   "cell_type": "code",
   "execution_count": 150,
   "id": "02a8b1fc",
   "metadata": {},
   "outputs": [
    {
     "name": "stderr",
     "output_type": "stream",
     "text": [
      "(0.030) SELECT \"products\".\"id\", \"products\".\"name\", \"products\".\"price\", \"products\".\"related_seller_id\" FROM \"products\"; args=(); alias=default\n",
      "(0.006) SELECT \"sellers\".\"id\", \"sellers\".\"email\", \"sellers\".\"name\", \"sellers\".\"phone_number\" FROM \"sellers\" WHERE \"sellers\".\"id\" IN (1, 2, 3, 4, 5, 6, 7, 8, 9, 10); args=(1, 2, 3, 4, 5, 6, 7, 8, 9, 10); alias=default\n"
     ]
    }
   ],
   "source": [
    "queryset = Seller.objects.filter(id__gte=5)\n",
    "products = Product.objects.prefetch_related('related_seller')\n",
    "\n",
    "product_sellers = [{'name':product.name, 'seller':product.related_seller.name} for product in products]"
   ]
  },
  {
   "cell_type": "markdown",
   "id": "2e37821d",
   "metadata": {},
   "source": [
    "## 2.1 \bQueryset\n",
    "Queryset class에는 다음과 같은 값들이 포함되어 있다\n",
    "- query: 메인 쿼리\n",
    "- _prefetch_related_lookups : 추가 쿼리 참조값\n",
    "- _result_cache : 현재 캐쉬된 값들"
   ]
  },
  {
   "cell_type": "code",
   "execution_count": 185,
   "id": "3aa912b8",
   "metadata": {},
   "outputs": [
    {
     "name": "stderr",
     "output_type": "stream",
     "text": [
      "(0.010) SELECT \"products\".\"id\", \"products\".\"name\", \"products\".\"price\", \"products\".\"related_seller_id\" FROM \"products\"; args=(); alias=default\n",
      "(0.016) SELECT \"sellers\".\"id\", \"sellers\".\"email\", \"sellers\".\"name\", \"sellers\".\"phone_number\" FROM \"sellers\" WHERE \"sellers\".\"id\" IN (1, 2, 3, 4, 5, 6, 7, 8, 9, 10); args=(1, 2, 3, 4, 5, 6, 7, 8, 9, 10); alias=default\n"
     ]
    },
    {
     "name": "stdout",
     "output_type": "stream",
     "text": [
      "\n",
      "main query : SELECT \"products\".\"id\", \"products\".\"name\", \"products\".\"price\", \"products\".\"related_seller_id\" FROM \"products\"\n",
      "\n",
      "result cache : None\n",
      "\n",
      "additional queryset : ('related_seller',)\n",
      "\n",
      "result cache after call query : [<Product: Product object (1)>, <Product: Product object (2)>, <Product: Product object (3)>, <Product: Product object (4)>, <Product: Product object (5)>, <Product: Product object (6)>, <Product: Product object (7)>, <Product: Product object (8)>, <Product: Product object (9)>, <Product: Product object (10)>]\n"
     ]
    }
   ],
   "source": [
    "products = Product.objects.prefetch_related('related_seller')\n",
    "print(f'\\nmain query : {products.query}') # 메인 쿼리\n",
    "print(f'\\nresult cache : {products._result_cache}') # 캐시된 값들\n",
    "print(f'\\nadditional queryset : {products._prefetch_related_lookups}') # 추가 쿼리셋\n",
    "len(products)\n",
    "print(f'\\nresult cache after call query : {products._result_cache}') # 캐시된 값들 (쿼리 호출 후)\n"
   ]
  }
 ],
 "metadata": {
  "kernelspec": {
   "display_name": "Django Shell-Plus",
   "language": "python",
   "name": "django_extensions"
  },
  "language_info": {
   "codemirror_mode": {
    "name": "ipython",
    "version": 3
   },
   "file_extension": ".py",
   "mimetype": "text/x-python",
   "name": "python",
   "nbconvert_exporter": "python",
   "pygments_lexer": "ipython3",
   "version": "3.8.12"
  }
 },
 "nbformat": 4,
 "nbformat_minor": 5
}
